{
  "nbformat": 4,
  "nbformat_minor": 0,
  "metadata": {
    "kernelspec": {
      "display_name": "Python 3",
      "language": "python",
      "name": "python3"
    },
    "language_info": {
      "codemirror_mode": {
        "name": "ipython",
        "version": 3
      },
      "file_extension": ".py",
      "mimetype": "text/x-python",
      "name": "python",
      "nbconvert_exporter": "python",
      "pygments_lexer": "ipython3",
      "version": "3.7.3"
    },
    "colab": {
      "name": "Diabetes ANN (2 layers).ipynb",
      "provenance": [],
      "include_colab_link": true
    }
  },
  "cells": [
    {
      "cell_type": "markdown",
      "metadata": {
        "id": "view-in-github",
        "colab_type": "text"
      },
      "source": [
        "<a href=\"https://colab.research.google.com/github/solharsh/All_Neural_Networks/blob/master/Diabetes_ANN_(2_layers).ipynb\" target=\"_parent\"><img src=\"https://colab.research.google.com/assets/colab-badge.svg\" alt=\"Open In Colab\"/></a>"
      ]
    },
    {
      "cell_type": "code",
      "metadata": {
        "id": "gKfcYIvnnuJQ",
        "colab_type": "code",
        "colab": {}
      },
      "source": [
        "import numpy as np\n",
        "import matplotlib.pyplot as plt\n",
        "import pandas as pd\n",
        "import os"
      ],
      "execution_count": 0,
      "outputs": []
    },
    {
      "cell_type": "code",
      "metadata": {
        "id": "jBR-PJQKnuJW",
        "colab_type": "code",
        "colab": {}
      },
      "source": [
        "data_dir=\"F:\\Google Drive\\dono\\jigsaw\\Academic\\PGPDM\\AI-DL Module\"\n",
        "os.chdir(data_dir)\n",
        "dataset = pd.read_csv('diabetes.csv')\n",
        "X = dataset.iloc[:, :-1].values\n",
        "y = dataset.iloc[:, -1].values"
      ],
      "execution_count": 0,
      "outputs": []
    },
    {
      "cell_type": "code",
      "metadata": {
        "id": "aj4FRD5VnuJb",
        "colab_type": "code",
        "colab": {}
      },
      "source": [
        "# Splitting the dataset into the Training set and Test set\n",
        "from sklearn.model_selection import train_test_split\n",
        "X_train, X_test, y_train, y_test = train_test_split(X, y, test_size = 0.2, random_state = 0)"
      ],
      "execution_count": 0,
      "outputs": []
    },
    {
      "cell_type": "code",
      "metadata": {
        "id": "JgPkDSAmnuJi",
        "colab_type": "code",
        "colab": {}
      },
      "source": [
        "# Feature Scaling\n",
        "from sklearn.preprocessing import StandardScaler\n",
        "sc = StandardScaler()\n",
        "X_train = sc.fit_transform(X_train)\n",
        "X_test = sc.transform(X_test)"
      ],
      "execution_count": 0,
      "outputs": []
    },
    {
      "cell_type": "code",
      "metadata": {
        "id": "Eo6O8rDNnuJm",
        "colab_type": "code",
        "colab": {},
        "outputId": "03eb6eaf-6998-434a-f25a-8c6b2b49bb45"
      },
      "source": [
        "# Making the ANN!\n",
        "\n",
        "# Importing the Keras libraries and packages\n",
        "import keras\n",
        "from keras.models import Sequential #sequential module reqd to initialize the NN\n",
        "from keras.layers import Dense #dense module reqd to build the layers of the NN"
      ],
      "execution_count": 0,
      "outputs": [
        {
          "output_type": "stream",
          "text": [
            "Using TensorFlow backend.\n",
            "C:\\Users\\deep\\Anaconda3\\lib\\site-packages\\tensorflow\\python\\framework\\dtypes.py:516: FutureWarning: Passing (type, 1) or '1type' as a synonym of type is deprecated; in a future version of numpy, it will be understood as (type, (1,)) / '(1,)type'.\n",
            "  _np_qint8 = np.dtype([(\"qint8\", np.int8, 1)])\n",
            "C:\\Users\\deep\\Anaconda3\\lib\\site-packages\\tensorflow\\python\\framework\\dtypes.py:517: FutureWarning: Passing (type, 1) or '1type' as a synonym of type is deprecated; in a future version of numpy, it will be understood as (type, (1,)) / '(1,)type'.\n",
            "  _np_quint8 = np.dtype([(\"quint8\", np.uint8, 1)])\n",
            "C:\\Users\\deep\\Anaconda3\\lib\\site-packages\\tensorflow\\python\\framework\\dtypes.py:518: FutureWarning: Passing (type, 1) or '1type' as a synonym of type is deprecated; in a future version of numpy, it will be understood as (type, (1,)) / '(1,)type'.\n",
            "  _np_qint16 = np.dtype([(\"qint16\", np.int16, 1)])\n",
            "C:\\Users\\deep\\Anaconda3\\lib\\site-packages\\tensorflow\\python\\framework\\dtypes.py:519: FutureWarning: Passing (type, 1) or '1type' as a synonym of type is deprecated; in a future version of numpy, it will be understood as (type, (1,)) / '(1,)type'.\n",
            "  _np_quint16 = np.dtype([(\"quint16\", np.uint16, 1)])\n",
            "C:\\Users\\deep\\Anaconda3\\lib\\site-packages\\tensorflow\\python\\framework\\dtypes.py:520: FutureWarning: Passing (type, 1) or '1type' as a synonym of type is deprecated; in a future version of numpy, it will be understood as (type, (1,)) / '(1,)type'.\n",
            "  _np_qint32 = np.dtype([(\"qint32\", np.int32, 1)])\n",
            "C:\\Users\\deep\\Anaconda3\\lib\\site-packages\\tensorflow\\python\\framework\\dtypes.py:525: FutureWarning: Passing (type, 1) or '1type' as a synonym of type is deprecated; in a future version of numpy, it will be understood as (type, (1,)) / '(1,)type'.\n",
            "  np_resource = np.dtype([(\"resource\", np.ubyte, 1)])\n",
            "C:\\Users\\deep\\Anaconda3\\lib\\site-packages\\tensorboard\\compat\\tensorflow_stub\\dtypes.py:541: FutureWarning: Passing (type, 1) or '1type' as a synonym of type is deprecated; in a future version of numpy, it will be understood as (type, (1,)) / '(1,)type'.\n",
            "  _np_qint8 = np.dtype([(\"qint8\", np.int8, 1)])\n",
            "C:\\Users\\deep\\Anaconda3\\lib\\site-packages\\tensorboard\\compat\\tensorflow_stub\\dtypes.py:542: FutureWarning: Passing (type, 1) or '1type' as a synonym of type is deprecated; in a future version of numpy, it will be understood as (type, (1,)) / '(1,)type'.\n",
            "  _np_quint8 = np.dtype([(\"quint8\", np.uint8, 1)])\n",
            "C:\\Users\\deep\\Anaconda3\\lib\\site-packages\\tensorboard\\compat\\tensorflow_stub\\dtypes.py:543: FutureWarning: Passing (type, 1) or '1type' as a synonym of type is deprecated; in a future version of numpy, it will be understood as (type, (1,)) / '(1,)type'.\n",
            "  _np_qint16 = np.dtype([(\"qint16\", np.int16, 1)])\n",
            "C:\\Users\\deep\\Anaconda3\\lib\\site-packages\\tensorboard\\compat\\tensorflow_stub\\dtypes.py:544: FutureWarning: Passing (type, 1) or '1type' as a synonym of type is deprecated; in a future version of numpy, it will be understood as (type, (1,)) / '(1,)type'.\n",
            "  _np_quint16 = np.dtype([(\"quint16\", np.uint16, 1)])\n",
            "C:\\Users\\deep\\Anaconda3\\lib\\site-packages\\tensorboard\\compat\\tensorflow_stub\\dtypes.py:545: FutureWarning: Passing (type, 1) or '1type' as a synonym of type is deprecated; in a future version of numpy, it will be understood as (type, (1,)) / '(1,)type'.\n",
            "  _np_qint32 = np.dtype([(\"qint32\", np.int32, 1)])\n",
            "C:\\Users\\deep\\Anaconda3\\lib\\site-packages\\tensorboard\\compat\\tensorflow_stub\\dtypes.py:550: FutureWarning: Passing (type, 1) or '1type' as a synonym of type is deprecated; in a future version of numpy, it will be understood as (type, (1,)) / '(1,)type'.\n",
            "  np_resource = np.dtype([(\"resource\", np.ubyte, 1)])\n"
          ],
          "name": "stderr"
        }
      ]
    },
    {
      "cell_type": "code",
      "metadata": {
        "id": "aYVc31JWnuJs",
        "colab_type": "code",
        "colab": {}
      },
      "source": [
        "# Initialising the ANN\n",
        "diabetes_predictor = Sequential() \n",
        "#creating object of Sequential class"
      ],
      "execution_count": 0,
      "outputs": []
    },
    {
      "cell_type": "code",
      "metadata": {
        "id": "FwzuOMJXnuJy",
        "colab_type": "code",
        "colab": {}
      },
      "source": [
        "# Adding the input layer and the first hidden layer\n",
        "diabetes_predictor.add(Dense(input_dim=8, activation=\"relu\", kernel_initializer=\"uniform\", units=5))\n",
        "#add method of object classifier to add layers\n",
        "#Dense function will take care of the first step of ANN i.e. randomly intializing weights of synapses to small number close to 0 (but not 0); done with init = 'uniform' (initialize weights based on uniform distribution)\n",
        "#8 input nodes we know from our dataset; hence input_dim = 8\n",
        "#Forward-propagation by applying the activiation function. Neuron applies the activation fn to the sum of weights*inputs. The closer the activation fn value is to 1, the more activated the neuron, and the more activated the neuron, the more it passes on the signal\n",
        "#Use rectifier activation fn for hiddern layers; activation = 'relu'\n",
        "#units i.e output_dim = 6 is the chosen number of nodes in this hidden layer\n",
        "#TIP: can choose average of the number of nodes in the input layer and the number of nodes in the output layer"
      ],
      "execution_count": 0,
      "outputs": []
    },
    {
      "cell_type": "code",
      "metadata": {
        "id": "SLYl3XufnuJ9",
        "colab_type": "code",
        "colab": {}
      },
      "source": [
        "# Adding the second hidden layer\n",
        "diabetes_predictor.add(Dense(activation = \"relu\", kernel_initializer = \"uniform\", units = 5))"
      ],
      "execution_count": 0,
      "outputs": []
    },
    {
      "cell_type": "code",
      "metadata": {
        "id": "0XjssAzKnuKC",
        "colab_type": "code",
        "colab": {}
      },
      "source": [
        "# Adding the output layer\n",
        "diabetes_predictor.add(Dense(activation = 'sigmoid', kernel_initializer = \"uniform\", units = 1))\n",
        "#sigmoid activation fn for the output layer"
      ],
      "execution_count": 0,
      "outputs": []
    },
    {
      "cell_type": "code",
      "metadata": {
        "id": "7Lsyjpl2nuKH",
        "colab_type": "code",
        "colab": {},
        "outputId": "86a4bee0-8b8d-4649-cc18-80b460ec54f6"
      },
      "source": [
        "# Compiling the ANN\n",
        "diabetes_predictor.compile(optimizer = 'adam', loss = 'binary_crossentropy', metrics = ['accuracy'])\n",
        "#optimizer is the algo used to find the optimal no of weights in the NN (until now weights have only been initialized); 'adam' is a type of SGD algo\n",
        "#loss deals with the loss function within the SGD algo which needs to be optimized(minimized); loss fn for SGD gong to be the same as that for logistic regression (logarithmic loss); since sigmoid fn used as activation fn we use log loss fn\n",
        "#acuracy metric ensure that accuracy increases batch by batch; metrics parameter expecting a list so 'accuracy' added in []"
      ],
      "execution_count": 0,
      "outputs": [
        {
          "output_type": "stream",
          "text": [
            "WARNING:tensorflow:From C:\\Users\\deep\\Anaconda3\\lib\\site-packages\\tensorflow\\python\\ops\\nn_impl.py:180: add_dispatch_support.<locals>.wrapper (from tensorflow.python.ops.array_ops) is deprecated and will be removed in a future version.\n",
            "Instructions for updating:\n",
            "Use tf.where in 2.0, which has the same broadcast rule as np.where\n"
          ],
          "name": "stdout"
        }
      ]
    },
    {
      "cell_type": "code",
      "metadata": {
        "id": "6BCcTZ1snuKN",
        "colab_type": "code",
        "colab": {},
        "outputId": "2119b97e-7f37-4801-a443-d2841882bfc1"
      },
      "source": [
        "# Fitting the ANN to the Training set\n",
        "diabetes_predictor.fit(X_train, y_train, batch_size = 10, nb_epoch = 100)\n",
        "#Weights upated via batch learning so batch size needs to be specified (no rule of thumb)\n",
        "#when the whole training set is passed throught the ANN, that makes an epoch. Epoch size needs to be specified (no rule of thumb)"
      ],
      "execution_count": 0,
      "outputs": [
        {
          "output_type": "stream",
          "text": [
            "C:\\Users\\deep\\Anaconda3\\lib\\site-packages\\ipykernel_launcher.py:2: UserWarning: The `nb_epoch` argument in `fit` has been renamed `epochs`.\n",
            "  \n"
          ],
          "name": "stderr"
        },
        {
          "output_type": "stream",
          "text": [
            "WARNING:tensorflow:From C:\\Users\\deep\\Anaconda3\\lib\\site-packages\\keras\\backend\\tensorflow_backend.py:422: The name tf.global_variables is deprecated. Please use tf.compat.v1.global_variables instead.\n",
            "\n",
            "Epoch 1/100\n",
            "614/614 [==============================] - 0s 495us/step - loss: 0.6892 - accuracy: 0.6352\n",
            "Epoch 2/100\n",
            "614/614 [==============================] - 0s 93us/step - loss: 0.6716 - accuracy: 0.6401\n",
            "Epoch 3/100\n",
            "614/614 [==============================] - 0s 98us/step - loss: 0.6293 - accuracy: 0.6596\n",
            "Epoch 4/100\n",
            "614/614 [==============================] - 0s 92us/step - loss: 0.5736 - accuracy: 0.7492\n",
            "Epoch 5/100\n",
            "614/614 [==============================] - 0s 111us/step - loss: 0.5294 - accuracy: 0.7704\n",
            "Epoch 6/100\n",
            "614/614 [==============================] - 0s 108us/step - loss: 0.5038 - accuracy: 0.7687\n",
            "Epoch 7/100\n",
            "614/614 [==============================] - 0s 103us/step - loss: 0.4918 - accuracy: 0.7655\n",
            "Epoch 8/100\n",
            "614/614 [==============================] - 0s 115us/step - loss: 0.4852 - accuracy: 0.7638\n",
            "Epoch 9/100\n",
            "614/614 [==============================] - 0s 104us/step - loss: 0.4814 - accuracy: 0.7622\n",
            "Epoch 10/100\n",
            "614/614 [==============================] - 0s 96us/step - loss: 0.4791 - accuracy: 0.7704\n",
            "Epoch 11/100\n",
            "614/614 [==============================] - 0s 97us/step - loss: 0.4776 - accuracy: 0.7752\n",
            "Epoch 12/100\n",
            "614/614 [==============================] - ETA: 0s - loss: 0.4913 - accuracy: 0.76 - 0s 96us/step - loss: 0.4763 - accuracy: 0.7736\n",
            "Epoch 13/100\n",
            "614/614 [==============================] - 0s 99us/step - loss: 0.4750 - accuracy: 0.7736\n",
            "Epoch 14/100\n",
            "614/614 [==============================] - 0s 149us/step - loss: 0.4748 - accuracy: 0.7736\n",
            "Epoch 15/100\n",
            "614/614 [==============================] - 0s 108us/step - loss: 0.4731 - accuracy: 0.7785\n",
            "Epoch 16/100\n",
            "614/614 [==============================] - 0s 96us/step - loss: 0.4726 - accuracy: 0.7769\n",
            "Epoch 17/100\n",
            "614/614 [==============================] - 0s 99us/step - loss: 0.4724 - accuracy: 0.7785\n",
            "Epoch 18/100\n",
            "614/614 [==============================] - 0s 104us/step - loss: 0.4727 - accuracy: 0.7769\n",
            "Epoch 19/100\n",
            "614/614 [==============================] - 0s 98us/step - loss: 0.4717 - accuracy: 0.7801\n",
            "Epoch 20/100\n",
            "614/614 [==============================] - 0s 97us/step - loss: 0.4717 - accuracy: 0.7785\n",
            "Epoch 21/100\n",
            "614/614 [==============================] - 0s 99us/step - loss: 0.4711 - accuracy: 0.7818\n",
            "Epoch 22/100\n",
            "614/614 [==============================] - 0s 99us/step - loss: 0.4705 - accuracy: 0.7801\n",
            "Epoch 23/100\n",
            "614/614 [==============================] - 0s 96us/step - loss: 0.4702 - accuracy: 0.7801\n",
            "Epoch 24/100\n",
            "614/614 [==============================] - 0s 88us/step - loss: 0.4702 - accuracy: 0.7769\n",
            "Epoch 25/100\n",
            "614/614 [==============================] - 0s 91us/step - loss: 0.4697 - accuracy: 0.7769\n",
            "Epoch 26/100\n",
            "614/614 [==============================] - 0s 88us/step - loss: 0.4701 - accuracy: 0.7769\n",
            "Epoch 27/100\n",
            "614/614 [==============================] - 0s 94us/step - loss: 0.4697 - accuracy: 0.7769\n",
            "Epoch 28/100\n",
            "614/614 [==============================] - 0s 91us/step - loss: 0.4685 - accuracy: 0.7785\n",
            "Epoch 29/100\n",
            "614/614 [==============================] - 0s 91us/step - loss: 0.4688 - accuracy: 0.7801\n",
            "Epoch 30/100\n",
            "614/614 [==============================] - 0s 88us/step - loss: 0.4681 - accuracy: 0.7720\n",
            "Epoch 31/100\n",
            "614/614 [==============================] - 0s 90us/step - loss: 0.4675 - accuracy: 0.7720\n",
            "Epoch 32/100\n",
            "614/614 [==============================] - 0s 85us/step - loss: 0.4674 - accuracy: 0.7801\n",
            "Epoch 33/100\n",
            "614/614 [==============================] - 0s 88us/step - loss: 0.4675 - accuracy: 0.7801\n",
            "Epoch 34/100\n",
            "614/614 [==============================] - 0s 87us/step - loss: 0.4674 - accuracy: 0.7769\n",
            "Epoch 35/100\n",
            "614/614 [==============================] - 0s 89us/step - loss: 0.4668 - accuracy: 0.7769\n",
            "Epoch 36/100\n",
            "614/614 [==============================] - 0s 98us/step - loss: 0.4668 - accuracy: 0.7752\n",
            "Epoch 37/100\n",
            "614/614 [==============================] - 0s 102us/step - loss: 0.4668 - accuracy: 0.7752\n",
            "Epoch 38/100\n",
            "614/614 [==============================] - 0s 112us/step - loss: 0.4669 - accuracy: 0.7704\n",
            "Epoch 39/100\n",
            "614/614 [==============================] - 0s 107us/step - loss: 0.4666 - accuracy: 0.7752\n",
            "Epoch 40/100\n",
            "614/614 [==============================] - 0s 97us/step - loss: 0.4661 - accuracy: 0.7736\n",
            "Epoch 41/100\n",
            "614/614 [==============================] - 0s 90us/step - loss: 0.4657 - accuracy: 0.7785\n",
            "Epoch 42/100\n",
            "614/614 [==============================] - 0s 90us/step - loss: 0.4653 - accuracy: 0.7769\n",
            "Epoch 43/100\n",
            "614/614 [==============================] - 0s 118us/step - loss: 0.4659 - accuracy: 0.7769\n",
            "Epoch 44/100\n",
            "614/614 [==============================] - 0s 91us/step - loss: 0.4649 - accuracy: 0.7752\n",
            "Epoch 45/100\n",
            "614/614 [==============================] - 0s 88us/step - loss: 0.4648 - accuracy: 0.7785\n",
            "Epoch 46/100\n",
            "614/614 [==============================] - 0s 84us/step - loss: 0.4641 - accuracy: 0.7785\n",
            "Epoch 47/100\n",
            "614/614 [==============================] - 0s 89us/step - loss: 0.4649 - accuracy: 0.7752\n",
            "Epoch 48/100\n",
            "614/614 [==============================] - 0s 86us/step - loss: 0.4640 - accuracy: 0.7752\n",
            "Epoch 49/100\n",
            "614/614 [==============================] - 0s 90us/step - loss: 0.4638 - accuracy: 0.7769\n",
            "Epoch 50/100\n",
            "614/614 [==============================] - 0s 84us/step - loss: 0.4636 - accuracy: 0.7785\n",
            "Epoch 51/100\n",
            "614/614 [==============================] - 0s 92us/step - loss: 0.4633 - accuracy: 0.7769\n",
            "Epoch 52/100\n",
            "614/614 [==============================] - 0s 137us/step - loss: 0.4634 - accuracy: 0.7752\n",
            "Epoch 53/100\n",
            "614/614 [==============================] - 0s 91us/step - loss: 0.4633 - accuracy: 0.7785\n",
            "Epoch 54/100\n",
            "614/614 [==============================] - 0s 87us/step - loss: 0.4635 - accuracy: 0.7785\n",
            "Epoch 55/100\n",
            "614/614 [==============================] - 0s 92us/step - loss: 0.4631 - accuracy: 0.7769\n",
            "Epoch 56/100\n",
            "614/614 [==============================] - 0s 90us/step - loss: 0.4628 - accuracy: 0.7785\n",
            "Epoch 57/100\n",
            "614/614 [==============================] - 0s 87us/step - loss: 0.4625 - accuracy: 0.7801\n",
            "Epoch 58/100\n",
            "614/614 [==============================] - 0s 91us/step - loss: 0.4626 - accuracy: 0.7769\n",
            "Epoch 59/100\n",
            "614/614 [==============================] - 0s 89us/step - loss: 0.4628 - accuracy: 0.7785\n",
            "Epoch 60/100\n",
            "614/614 [==============================] - 0s 90us/step - loss: 0.4620 - accuracy: 0.7785\n",
            "Epoch 61/100\n",
            "614/614 [==============================] - 0s 96us/step - loss: 0.4621 - accuracy: 0.7769\n",
            "Epoch 62/100\n",
            "614/614 [==============================] - 0s 94us/step - loss: 0.4617 - accuracy: 0.7801\n",
            "Epoch 63/100\n",
            "614/614 [==============================] - 0s 84us/step - loss: 0.4621 - accuracy: 0.7785\n",
            "Epoch 64/100\n",
            "614/614 [==============================] - 0s 93us/step - loss: 0.4613 - accuracy: 0.7801\n",
            "Epoch 65/100\n",
            "614/614 [==============================] - 0s 94us/step - loss: 0.4612 - accuracy: 0.7801\n",
            "Epoch 66/100\n",
            "614/614 [==============================] - 0s 93us/step - loss: 0.4608 - accuracy: 0.7785\n",
            "Epoch 67/100\n",
            "614/614 [==============================] - 0s 94us/step - loss: 0.4613 - accuracy: 0.7752\n",
            "Epoch 68/100\n",
            "614/614 [==============================] - 0s 89us/step - loss: 0.4611 - accuracy: 0.7785\n",
            "Epoch 69/100\n",
            "614/614 [==============================] - 0s 88us/step - loss: 0.4609 - accuracy: 0.7769\n",
            "Epoch 70/100\n",
            "614/614 [==============================] - 0s 89us/step - loss: 0.4603 - accuracy: 0.7785\n",
            "Epoch 71/100\n",
            "614/614 [==============================] - 0s 90us/step - loss: 0.4606 - accuracy: 0.7785\n",
            "Epoch 72/100\n",
            "614/614 [==============================] - 0s 87us/step - loss: 0.4601 - accuracy: 0.7785\n",
            "Epoch 73/100\n",
            "614/614 [==============================] - 0s 89us/step - loss: 0.4599 - accuracy: 0.7769\n",
            "Epoch 74/100\n",
            "614/614 [==============================] - 0s 91us/step - loss: 0.4597 - accuracy: 0.7801\n",
            "Epoch 75/100\n",
            "614/614 [==============================] - 0s 90us/step - loss: 0.4603 - accuracy: 0.7785\n",
            "Epoch 76/100\n",
            "614/614 [==============================] - 0s 89us/step - loss: 0.4605 - accuracy: 0.7785\n",
            "Epoch 77/100\n",
            "614/614 [==============================] - 0s 87us/step - loss: 0.4596 - accuracy: 0.7785\n",
            "Epoch 78/100\n",
            "614/614 [==============================] - 0s 87us/step - loss: 0.4603 - accuracy: 0.7769\n",
            "Epoch 79/100\n",
            "614/614 [==============================] - 0s 90us/step - loss: 0.4591 - accuracy: 0.7769\n",
            "Epoch 80/100\n",
            "614/614 [==============================] - 0s 89us/step - loss: 0.4587 - accuracy: 0.7769\n",
            "Epoch 81/100\n",
            "614/614 [==============================] - 0s 91us/step - loss: 0.4588 - accuracy: 0.7834\n",
            "Epoch 82/100\n",
            "614/614 [==============================] - 0s 91us/step - loss: 0.4588 - accuracy: 0.7785\n",
            "Epoch 83/100\n",
            "614/614 [==============================] - 0s 89us/step - loss: 0.4587 - accuracy: 0.7801\n",
            "Epoch 84/100\n",
            "614/614 [==============================] - 0s 89us/step - loss: 0.4593 - accuracy: 0.7818\n",
            "Epoch 85/100\n",
            "614/614 [==============================] - 0s 106us/step - loss: 0.4591 - accuracy: 0.7801\n",
            "Epoch 86/100\n",
            "614/614 [==============================] - 0s 86us/step - loss: 0.4588 - accuracy: 0.7785\n",
            "Epoch 87/100\n",
            "614/614 [==============================] - 0s 89us/step - loss: 0.4580 - accuracy: 0.7785\n",
            "Epoch 88/100\n",
            "614/614 [==============================] - 0s 94us/step - loss: 0.4583 - accuracy: 0.7801\n",
            "Epoch 89/100\n",
            "614/614 [==============================] - 0s 93us/step - loss: 0.4581 - accuracy: 0.7801\n",
            "Epoch 90/100\n",
            "614/614 [==============================] - 0s 89us/step - loss: 0.4577 - accuracy: 0.7769\n",
            "Epoch 91/100\n",
            "614/614 [==============================] - 0s 89us/step - loss: 0.4579 - accuracy: 0.7834\n",
            "Epoch 92/100\n",
            "614/614 [==============================] - 0s 84us/step - loss: 0.4573 - accuracy: 0.7801\n",
            "Epoch 93/100\n",
            "614/614 [==============================] - 0s 88us/step - loss: 0.4578 - accuracy: 0.7785\n",
            "Epoch 94/100\n",
            "614/614 [==============================] - 0s 92us/step - loss: 0.4578 - accuracy: 0.7769\n",
            "Epoch 95/100\n",
            "614/614 [==============================] - 0s 88us/step - loss: 0.4578 - accuracy: 0.7818\n",
            "Epoch 96/100\n",
            "614/614 [==============================] - 0s 86us/step - loss: 0.4572 - accuracy: 0.7785\n",
            "Epoch 97/100\n",
            "614/614 [==============================] - 0s 89us/step - loss: 0.4572 - accuracy: 0.7801\n",
            "Epoch 98/100\n",
            "614/614 [==============================] - 0s 88us/step - loss: 0.4570 - accuracy: 0.7801\n",
            "Epoch 99/100\n",
            "614/614 [==============================] - 0s 84us/step - loss: 0.4562 - accuracy: 0.7801\n",
            "Epoch 100/100\n",
            "614/614 [==============================] - 0s 85us/step - loss: 0.4559 - accuracy: 0.7801\n"
          ],
          "name": "stdout"
        },
        {
          "output_type": "execute_result",
          "data": {
            "text/plain": [
              "<keras.callbacks.callbacks.History at 0x2497a0e2d68>"
            ]
          },
          "metadata": {
            "tags": []
          },
          "execution_count": 11
        }
      ]
    },
    {
      "cell_type": "code",
      "metadata": {
        "id": "vL4rFbbknuKS",
        "colab_type": "code",
        "colab": {}
      },
      "source": [
        "# Making the predictions and evaluating the model\n",
        "\n",
        "# Predicting the Test set results\n",
        "y_pred = diabetes_predictor.predict(X_test)\n",
        "#this gives us the probability of a patient having diabetes\n",
        "y_pred = (y_pred > 0.5)\n",
        "#this above syntax is equivalent to sayig if y_pred>0.5 give value 1 and if not give value 0"
      ],
      "execution_count": 0,
      "outputs": []
    },
    {
      "cell_type": "code",
      "metadata": {
        "id": "PPkPW9aHnuKe",
        "colab_type": "code",
        "colab": {},
        "outputId": "6d7960f2-2ddc-4c16-c1c5-00b448ade56e"
      },
      "source": [
        "# Making the Confusion Matrix\n",
        "from sklearn.metrics import confusion_matrix\n",
        "cm = confusion_matrix(y_test, y_pred)\n",
        "\n",
        "cm"
      ],
      "execution_count": 0,
      "outputs": [
        {
          "output_type": "execute_result",
          "data": {
            "text/plain": [
              "array([[93, 14],\n",
              "       [18, 29]], dtype=int64)"
            ]
          },
          "metadata": {
            "tags": []
          },
          "execution_count": 13
        }
      ]
    }
  ]
}
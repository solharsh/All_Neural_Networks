{
  "nbformat": 4,
  "nbformat_minor": 0,
  "metadata": {
    "colab": {
      "name": "Freezing_Layers.ipynb",
      "provenance": [],
      "authorship_tag": "ABX9TyNy8srjta233xPFeU/Uwgso",
      "include_colab_link": true
    },
    "kernelspec": {
      "name": "python3",
      "display_name": "Python 3"
    }
  },
  "cells": [
    {
      "cell_type": "markdown",
      "metadata": {
        "id": "view-in-github",
        "colab_type": "text"
      },
      "source": [
        "<a href=\"https://colab.research.google.com/github/solharsh/All_Neural_Networks/blob/master/Freezing_Layers.ipynb\" target=\"_parent\"><img src=\"https://colab.research.google.com/assets/colab-badge.svg\" alt=\"Open In Colab\"/></a>"
      ]
    },
    {
      "cell_type": "code",
      "metadata": {
        "id": "J6ApFlISlzgY",
        "colab_type": "code",
        "colab": {
          "base_uri": "https://localhost:8080/",
          "height": 283
        },
        "outputId": "5a914bc2-7756-4b95-b2c7-760cf18a8aa7"
      },
      "source": [
        "pip install mxnet"
      ],
      "execution_count": 1,
      "outputs": [
        {
          "output_type": "stream",
          "text": [
            "Collecting mxnet\n",
            "\u001b[?25l  Downloading https://files.pythonhosted.org/packages/81/f5/d79b5b40735086ff1100c680703e0f3efc830fa455e268e9e96f3c857e93/mxnet-1.6.0-py2.py3-none-any.whl (68.7MB)\n",
            "\u001b[K     |████████████████████████████████| 68.7MB 55kB/s \n",
            "\u001b[?25hRequirement already satisfied: requests<3,>=2.20.0 in /usr/local/lib/python3.6/dist-packages (from mxnet) (2.23.0)\n",
            "Requirement already satisfied: numpy<2.0.0,>1.16.0 in /usr/local/lib/python3.6/dist-packages (from mxnet) (1.18.4)\n",
            "Collecting graphviz<0.9.0,>=0.8.1\n",
            "  Downloading https://files.pythonhosted.org/packages/53/39/4ab213673844e0c004bed8a0781a0721a3f6bb23eb8854ee75c236428892/graphviz-0.8.4-py2.py3-none-any.whl\n",
            "Requirement already satisfied: certifi>=2017.4.17 in /usr/local/lib/python3.6/dist-packages (from requests<3,>=2.20.0->mxnet) (2020.4.5.1)\n",
            "Requirement already satisfied: urllib3!=1.25.0,!=1.25.1,<1.26,>=1.21.1 in /usr/local/lib/python3.6/dist-packages (from requests<3,>=2.20.0->mxnet) (1.24.3)\n",
            "Requirement already satisfied: chardet<4,>=3.0.2 in /usr/local/lib/python3.6/dist-packages (from requests<3,>=2.20.0->mxnet) (3.0.4)\n",
            "Requirement already satisfied: idna<3,>=2.5 in /usr/local/lib/python3.6/dist-packages (from requests<3,>=2.20.0->mxnet) (2.9)\n",
            "Installing collected packages: graphviz, mxnet\n",
            "  Found existing installation: graphviz 0.10.1\n",
            "    Uninstalling graphviz-0.10.1:\n",
            "      Successfully uninstalled graphviz-0.10.1\n",
            "Successfully installed graphviz-0.8.4 mxnet-1.6.0\n"
          ],
          "name": "stdout"
        }
      ]
    },
    {
      "cell_type": "markdown",
      "metadata": {
        "id": "0m1aAi8vl64E",
        "colab_type": "text"
      },
      "source": [
        "# Transfer Learning – Freezing layers\n",
        "\n",
        "After applying the pre-trained network’s weights, we usually freeze some layers in the network during training.\n",
        "\n",
        "We can also use the frozen part of the network as a feature extractor or Train another classifier using the output of the pre-trained network."
      ]
    },
    {
      "cell_type": "code",
      "metadata": {
        "id": "sKGyudgPl83o",
        "colab_type": "code",
        "colab": {
          "base_uri": "https://localhost:8080/",
          "height": 33
        },
        "outputId": "d04b0880-d33b-4d18-e143-3156ccbe39b1"
      },
      "source": [
        "from mxnet.gluon.model_zoo import vision\n",
        "import mxnet as mx\n",
        " \n",
        "num_outputs = 5\n",
        " \n",
        "# change for cpu or gpu\n",
        "ctx = mx.cpu()\n",
        "#ctx = mx.gpu()\n",
        " \n",
        "# Let's get the pre-trained network and copy weights\n",
        "pre_trained_net = vision.alexnet(pretrained=True, ctx=ctx)\n",
        "net = vision.alexnet(classes=num_outputs, ctx=ctx)\n",
        "net.collect_params().initialize(mx.init.Xavier(magnitude=2.24), ctx=ctx)\n",
        "net.features = pre_trained_net.features"
      ],
      "execution_count": 2,
      "outputs": [
        {
          "output_type": "stream",
          "text": [
            "Downloading /root/.mxnet/models/alexnet-44335d1f.zip646cac91-c25a-4c29-b824-5a10a2beda6e from https://apache-mxnet.s3-accelerate.dualstack.amazonaws.com/gluon/models/alexnet-44335d1f.zip...\n"
          ],
          "name": "stdout"
        }
      ]
    }
  ]
}
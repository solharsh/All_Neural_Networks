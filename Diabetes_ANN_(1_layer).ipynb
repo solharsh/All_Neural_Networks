{
  "nbformat": 4,
  "nbformat_minor": 0,
  "metadata": {
    "kernelspec": {
      "display_name": "Python 3",
      "language": "python",
      "name": "python3"
    },
    "language_info": {
      "codemirror_mode": {
        "name": "ipython",
        "version": 3
      },
      "file_extension": ".py",
      "mimetype": "text/x-python",
      "name": "python",
      "nbconvert_exporter": "python",
      "pygments_lexer": "ipython3",
      "version": "3.7.3"
    },
    "colab": {
      "name": "Diabetes ANN (1 layer).ipynb",
      "provenance": [],
      "include_colab_link": true
    }
  },
  "cells": [
    {
      "cell_type": "markdown",
      "metadata": {
        "id": "view-in-github",
        "colab_type": "text"
      },
      "source": [
        "<a href=\"https://colab.research.google.com/github/solharsh/All_Neural_Networks/blob/master/Diabetes_ANN_(1_layer).ipynb\" target=\"_parent\"><img src=\"https://colab.research.google.com/assets/colab-badge.svg\" alt=\"Open In Colab\"/></a>"
      ]
    },
    {
      "cell_type": "code",
      "metadata": {
        "id": "qSOPwl5rntBD",
        "colab_type": "code",
        "colab": {}
      },
      "source": [
        "# Phase 1: Data Preprocessing\n",
        "\n",
        "# Importing the libraries\n",
        "import numpy as np\n",
        "import matplotlib.pyplot as plt\n",
        "import pandas as pd"
      ],
      "execution_count": 0,
      "outputs": []
    },
    {
      "cell_type": "code",
      "metadata": {
        "id": "4MDbioLjntBJ",
        "colab_type": "code",
        "colab": {}
      },
      "source": [
        "data_dir=\"F:\\Google Drive\\dono\\jigsaw\\Academic\\PGPDM\\AI-DL Module\"\n",
        "os.chdir(data_dir)"
      ],
      "execution_count": 0,
      "outputs": []
    },
    {
      "cell_type": "code",
      "metadata": {
        "id": "TstcmYIGntBO",
        "colab_type": "code",
        "colab": {}
      },
      "source": [
        "# Importing the dataset\n",
        "# make sure that the csv file is in the same folder as this Jupyter notebook\n",
        "dataset = pd.read_csv('diabetes.csv')\n",
        "X = dataset.iloc[:, :-1].values\n",
        "y = dataset.iloc[:, -1].values\n",
        "# X will contain all the Independent variables such as pregnancies, glucose, bloodpressure, skin thickness, insulin, bmi, diabetes pedigree function, and age\n",
        "# y haas the outcomes i.e. the Dependent variable"
      ],
      "execution_count": 0,
      "outputs": []
    },
    {
      "cell_type": "code",
      "metadata": {
        "id": "m9_vpVftntBR",
        "colab_type": "code",
        "colab": {}
      },
      "source": [
        "# Splitting the dataset into the Training set and Test set\n",
        "from sklearn.model_selection import train_test_split\n",
        "X_train, X_test, y_train, y_test = train_test_split(X, y, test_size = 0.2, random_state = 0)"
      ],
      "execution_count": 0,
      "outputs": []
    },
    {
      "cell_type": "code",
      "metadata": {
        "id": "If4G1F52ntBU",
        "colab_type": "code",
        "colab": {}
      },
      "source": [
        "# Feature Scaling\n",
        "from sklearn.preprocessing import StandardScaler\n",
        "sc = StandardScaler()\n",
        "X_train = sc.fit_transform(X_train)\n",
        "X_test = sc.transform(X_test)"
      ],
      "execution_count": 0,
      "outputs": []
    },
    {
      "cell_type": "code",
      "metadata": {
        "id": "VQtPSIEjntBY",
        "colab_type": "code",
        "colab": {},
        "outputId": "dd89a86a-a4c1-46cb-872a-00402098a12e"
      },
      "source": [
        "# Phase 2: Making the Neural Network (NN)\n",
        "\n",
        "# Importing the Keras libraries and packages\n",
        "import keras\n",
        "from keras.models import Sequential # sequential module reqd to initialize the NN\n",
        "from keras.layers import Dense # dense module reqd to build the layers of the NN"
      ],
      "execution_count": 0,
      "outputs": [
        {
          "output_type": "stream",
          "text": [
            "Using TensorFlow backend.\n"
          ],
          "name": "stderr"
        }
      ]
    },
    {
      "cell_type": "code",
      "metadata": {
        "id": "6gw9FilDntBb",
        "colab_type": "code",
        "colab": {}
      },
      "source": [
        "# Initialising the ANN\n",
        "diabetes_predictor = Sequential() \n",
        "# creating object of Sequential class"
      ],
      "execution_count": 0,
      "outputs": []
    },
    {
      "cell_type": "code",
      "metadata": {
        "id": "HwX40XQ6ntBf",
        "colab_type": "code",
        "colab": {},
        "outputId": "4c4a67ff-7302-415f-d6b9-aaff2aaaf21e"
      },
      "source": [
        "# Adding the input layer and the hidden layer\n",
        "diabetes_predictor.add(Dense(input_dim=8, activation=\"relu\", kernel_initializer=\"uniform\", units=5))\n",
        "# add method of object classifier to add layers\n",
        "# Dense function will take care of the first step of ANN i.e. randomly intializing weights of synapses to small number close to 0 (but not 0); done with init = 'uniform' (initialize weights based on uniform distribution)\n",
        "# 8 input nodes we know from our dataset; hence input_dim = 8\n",
        "# Forward-propagation by applying the activiation function. Neuron applies the activation fn to the sum of weights*inputs. The closer the activation fn value is to 1, the more activated the neuron, and the more activated the neuron, the more it passes on the signal\n",
        "# Use rectifier activation fn for hiddern layers; activation = 'relu'\n",
        "# units i.e the output dimensions is set = 6 which is the chosen number of nodes in this hidden layer\n",
        "# TIP: no rule of thumb to choosing ouput dimensions; can choose average of the number of nodes in the input layer and the number of nodes in the output layer"
      ],
      "execution_count": 0,
      "outputs": [
        {
          "output_type": "stream",
          "text": [
            "WARNING:tensorflow:From C:\\Users\\Swastik Das\\Anaconda3\\lib\\site-packages\\tensorflow_core\\python\\ops\\resource_variable_ops.py:1630: calling BaseResourceVariable.__init__ (from tensorflow.python.ops.resource_variable_ops) with constraint is deprecated and will be removed in a future version.\n",
            "Instructions for updating:\n",
            "If using Keras pass *_constraint arguments to layers.\n"
          ],
          "name": "stdout"
        }
      ]
    },
    {
      "cell_type": "code",
      "metadata": {
        "id": "fMu2Pg2NntBk",
        "colab_type": "code",
        "colab": {}
      },
      "source": [
        "# Adding the output layer\n",
        "diabetes_predictor.add(Dense(activation = 'sigmoid', kernel_initializer = \"uniform\", units = 1))\n",
        "# sigmoid activation fn for the output layer"
      ],
      "execution_count": 0,
      "outputs": []
    },
    {
      "cell_type": "code",
      "metadata": {
        "id": "fQul7geentBm",
        "colab_type": "code",
        "colab": {},
        "outputId": "3b5418ef-7023-4975-d56d-78bd17a1533c"
      },
      "source": [
        "# Compiling the ANN\n",
        "diabetes_predictor.compile(optimizer = 'adam', loss = 'binary_crossentropy', metrics = ['accuracy'])\n",
        "# optimizer is the algo used to find the optimal no of weights in the NN (until now weights have only been initialized); 'adam' is a type of SGD algo\n",
        "# loss deals with the loss function within the SGD algo which needs to be optimized(minimized); loss fn for SGD gong to be the same as that for logistic regression (logarithmic loss); since sigmoid fn used as activation fn we use log loss fn\n",
        "# acuracy metric ensure that accuracy increases batch by batch; metrics parameter expecting a list so 'accuracy' added in []"
      ],
      "execution_count": 0,
      "outputs": [
        {
          "output_type": "stream",
          "text": [
            "WARNING:tensorflow:From C:\\Users\\Swastik Das\\Anaconda3\\lib\\site-packages\\tensorflow_core\\python\\ops\\nn_impl.py:183: where (from tensorflow.python.ops.array_ops) is deprecated and will be removed in a future version.\n",
            "Instructions for updating:\n",
            "Use tf.where in 2.0, which has the same broadcast rule as np.where\n"
          ],
          "name": "stdout"
        }
      ]
    },
    {
      "cell_type": "code",
      "metadata": {
        "id": "q47QCEzmntBp",
        "colab_type": "code",
        "colab": {},
        "outputId": "9e7ac903-9a59-497e-d045-42592268d123"
      },
      "source": [
        "# Fitting the ANN to the Training set\n",
        "diabetes_predictor.fit(X_train, y_train, batch_size = 10, nb_epoch = 100)\n",
        "# Weights upated via batch learning so batch size needs to be specified (no rule of thumb)\n",
        "# when the whole training set is passed throught the ANN, that makes an epoch. Epoch size needs to be specified (no rule of thumb)"
      ],
      "execution_count": 0,
      "outputs": [
        {
          "output_type": "stream",
          "text": [
            "C:\\Users\\Swastik Das\\Anaconda3\\lib\\site-packages\\ipykernel_launcher.py:2: UserWarning: The `nb_epoch` argument in `fit` has been renamed `epochs`.\n",
            "  \n"
          ],
          "name": "stderr"
        },
        {
          "output_type": "stream",
          "text": [
            "WARNING:tensorflow:From C:\\Users\\Swastik Das\\Anaconda3\\lib\\site-packages\\keras\\backend\\tensorflow_backend.py:422: The name tf.global_variables is deprecated. Please use tf.compat.v1.global_variables instead.\n",
            "\n",
            "Epoch 1/100\n",
            "614/614 [==============================] - 0s 434us/step - loss: 0.6892 - accuracy: 0.6124\n",
            "Epoch 2/100\n",
            "614/614 [==============================] - 0s 91us/step - loss: 0.6711 - accuracy: 0.6564\n",
            "Epoch 3/100\n",
            "614/614 [==============================] - 0s 83us/step - loss: 0.6345 - accuracy: 0.7248\n",
            "Epoch 4/100\n",
            "614/614 [==============================] - 0s 83us/step - loss: 0.5925 - accuracy: 0.7590\n",
            "Epoch 5/100\n",
            "614/614 [==============================] - 0s 80us/step - loss: 0.5573 - accuracy: 0.7590\n",
            "Epoch 6/100\n",
            "614/614 [==============================] - 0s 75us/step - loss: 0.5330 - accuracy: 0.7573\n",
            "Epoch 7/100\n",
            "614/614 [==============================] - 0s 80us/step - loss: 0.5164 - accuracy: 0.7557\n",
            "Epoch 8/100\n",
            "614/614 [==============================] - 0s 80us/step - loss: 0.5051 - accuracy: 0.7622\n",
            "Epoch 9/100\n",
            "614/614 [==============================] - 0s 80us/step - loss: 0.4973 - accuracy: 0.7541\n",
            "Epoch 10/100\n",
            "614/614 [==============================] - 0s 96us/step - loss: 0.4918 - accuracy: 0.7622\n",
            "Epoch 11/100\n",
            "614/614 [==============================] - 0s 97us/step - loss: 0.4876 - accuracy: 0.7573\n",
            "Epoch 12/100\n",
            "614/614 [==============================] - 0s 104us/step - loss: 0.4846 - accuracy: 0.7606\n",
            "Epoch 13/100\n",
            "614/614 [==============================] - 0s 96us/step - loss: 0.4824 - accuracy: 0.7638\n",
            "Epoch 14/100\n",
            "614/614 [==============================] - 0s 91us/step - loss: 0.4806 - accuracy: 0.7622\n",
            "Epoch 15/100\n",
            "614/614 [==============================] - 0s 102us/step - loss: 0.4793 - accuracy: 0.7622\n",
            "Epoch 16/100\n",
            "614/614 [==============================] - 0s 85us/step - loss: 0.4779 - accuracy: 0.7622\n",
            "Epoch 17/100\n",
            "614/614 [==============================] - 0s 88us/step - loss: 0.4772 - accuracy: 0.7606\n",
            "Epoch 18/100\n",
            "614/614 [==============================] - 0s 84us/step - loss: 0.4764 - accuracy: 0.7655\n",
            "Epoch 19/100\n",
            "614/614 [==============================] - 0s 88us/step - loss: 0.4757 - accuracy: 0.7687\n",
            "Epoch 20/100\n",
            "614/614 [==============================] - 0s 81us/step - loss: 0.4750 - accuracy: 0.7622\n",
            "Epoch 21/100\n",
            "614/614 [==============================] - 0s 78us/step - loss: 0.4748 - accuracy: 0.7720\n",
            "Epoch 22/100\n",
            "614/614 [==============================] - 0s 83us/step - loss: 0.4735 - accuracy: 0.7687\n",
            "Epoch 23/100\n",
            "614/614 [==============================] - 0s 91us/step - loss: 0.4733 - accuracy: 0.7704\n",
            "Epoch 24/100\n",
            "614/614 [==============================] - 0s 91us/step - loss: 0.4730 - accuracy: 0.7720\n",
            "Epoch 25/100\n",
            "614/614 [==============================] - 0s 96us/step - loss: 0.4723 - accuracy: 0.7736\n",
            "Epoch 26/100\n",
            "614/614 [==============================] - 0s 119us/step - loss: 0.4718 - accuracy: 0.7736\n",
            "Epoch 27/100\n",
            "614/614 [==============================] - 0s 89us/step - loss: 0.4713 - accuracy: 0.7720\n",
            "Epoch 28/100\n",
            "614/614 [==============================] - 0s 83us/step - loss: 0.4710 - accuracy: 0.7752\n",
            "Epoch 29/100\n",
            "614/614 [==============================] - 0s 83us/step - loss: 0.4705 - accuracy: 0.7752\n",
            "Epoch 30/100\n",
            "614/614 [==============================] - 0s 84us/step - loss: 0.4701 - accuracy: 0.7752\n",
            "Epoch 31/100\n",
            "614/614 [==============================] - 0s 97us/step - loss: 0.4698 - accuracy: 0.7720\n",
            "Epoch 32/100\n",
            "614/614 [==============================] - 0s 88us/step - loss: 0.4693 - accuracy: 0.7752\n",
            "Epoch 33/100\n",
            "614/614 [==============================] - 0s 101us/step - loss: 0.4687 - accuracy: 0.7769\n",
            "Epoch 34/100\n",
            "614/614 [==============================] - 0s 89us/step - loss: 0.4683 - accuracy: 0.7752\n",
            "Epoch 35/100\n",
            "614/614 [==============================] - 0s 80us/step - loss: 0.4682 - accuracy: 0.7752\n",
            "Epoch 36/100\n",
            "614/614 [==============================] - 0s 80us/step - loss: 0.4675 - accuracy: 0.7752\n",
            "Epoch 37/100\n",
            "614/614 [==============================] - 0s 82us/step - loss: 0.4675 - accuracy: 0.7769\n",
            "Epoch 38/100\n",
            "614/614 [==============================] - 0s 78us/step - loss: 0.4672 - accuracy: 0.7752\n",
            "Epoch 39/100\n",
            "614/614 [==============================] - 0s 81us/step - loss: 0.4666 - accuracy: 0.7769\n",
            "Epoch 40/100\n",
            "614/614 [==============================] - 0s 78us/step - loss: 0.4663 - accuracy: 0.7801\n",
            "Epoch 41/100\n",
            "614/614 [==============================] - 0s 83us/step - loss: 0.4663 - accuracy: 0.7769\n",
            "Epoch 42/100\n",
            "614/614 [==============================] - 0s 96us/step - loss: 0.4660 - accuracy: 0.7785\n",
            "Epoch 43/100\n",
            "614/614 [==============================] - 0s 83us/step - loss: 0.4652 - accuracy: 0.7801\n",
            "Epoch 44/100\n",
            "614/614 [==============================] - 0s 86us/step - loss: 0.4651 - accuracy: 0.7818\n",
            "Epoch 45/100\n",
            "614/614 [==============================] - 0s 80us/step - loss: 0.4651 - accuracy: 0.7818\n",
            "Epoch 46/100\n",
            "614/614 [==============================] - 0s 78us/step - loss: 0.4644 - accuracy: 0.7785\n",
            "Epoch 47/100\n",
            "614/614 [==============================] - 0s 88us/step - loss: 0.4642 - accuracy: 0.7818\n",
            "Epoch 48/100\n",
            "614/614 [==============================] - 0s 84us/step - loss: 0.4640 - accuracy: 0.7785\n",
            "Epoch 49/100\n",
            "614/614 [==============================] - 0s 78us/step - loss: 0.4637 - accuracy: 0.7785\n",
            "Epoch 50/100\n",
            "614/614 [==============================] - 0s 97us/step - loss: 0.4633 - accuracy: 0.7785\n",
            "Epoch 51/100\n",
            "614/614 [==============================] - 0s 83us/step - loss: 0.4633 - accuracy: 0.7785\n",
            "Epoch 52/100\n",
            "614/614 [==============================] - 0s 84us/step - loss: 0.4630 - accuracy: 0.7801\n",
            "Epoch 53/100\n",
            "614/614 [==============================] - 0s 85us/step - loss: 0.4626 - accuracy: 0.7785\n",
            "Epoch 54/100\n",
            "614/614 [==============================] - 0s 78us/step - loss: 0.4624 - accuracy: 0.7769\n",
            "Epoch 55/100\n",
            "614/614 [==============================] - 0s 76us/step - loss: 0.4622 - accuracy: 0.7752\n",
            "Epoch 56/100\n",
            "614/614 [==============================] - 0s 81us/step - loss: 0.4619 - accuracy: 0.7736\n",
            "Epoch 57/100\n",
            "614/614 [==============================] - 0s 78us/step - loss: 0.4614 - accuracy: 0.7752\n",
            "Epoch 58/100\n",
            "614/614 [==============================] - 0s 76us/step - loss: 0.4610 - accuracy: 0.7769\n",
            "Epoch 59/100\n",
            "614/614 [==============================] - 0s 78us/step - loss: 0.4606 - accuracy: 0.7769\n",
            "Epoch 60/100\n",
            "614/614 [==============================] - 0s 78us/step - loss: 0.4605 - accuracy: 0.7752\n",
            "Epoch 61/100\n",
            "614/614 [==============================] - 0s 78us/step - loss: 0.4604 - accuracy: 0.7736\n",
            "Epoch 62/100\n",
            "614/614 [==============================] - 0s 80us/step - loss: 0.4600 - accuracy: 0.7769\n",
            "Epoch 63/100\n",
            "614/614 [==============================] - 0s 84us/step - loss: 0.4597 - accuracy: 0.7769\n",
            "Epoch 64/100\n",
            "614/614 [==============================] - 0s 80us/step - loss: 0.4594 - accuracy: 0.7769\n",
            "Epoch 65/100\n",
            "614/614 [==============================] - 0s 89us/step - loss: 0.4593 - accuracy: 0.7785\n",
            "Epoch 66/100\n",
            "614/614 [==============================] - 0s 83us/step - loss: 0.4589 - accuracy: 0.7769\n",
            "Epoch 67/100\n",
            "614/614 [==============================] - 0s 84us/step - loss: 0.4589 - accuracy: 0.7769\n",
            "Epoch 68/100\n",
            "614/614 [==============================] - 0s 81us/step - loss: 0.4586 - accuracy: 0.7785\n",
            "Epoch 69/100\n",
            "614/614 [==============================] - 0s 84us/step - loss: 0.4585 - accuracy: 0.7785\n",
            "Epoch 70/100\n",
            "614/614 [==============================] - 0s 81us/step - loss: 0.4584 - accuracy: 0.7801\n",
            "Epoch 71/100\n",
            "614/614 [==============================] - 0s 88us/step - loss: 0.4579 - accuracy: 0.7769\n",
            "Epoch 72/100\n",
            "614/614 [==============================] - 0s 80us/step - loss: 0.4578 - accuracy: 0.7785\n",
            "Epoch 73/100\n",
            "614/614 [==============================] - 0s 76us/step - loss: 0.4577 - accuracy: 0.7785\n",
            "Epoch 74/100\n",
            "614/614 [==============================] - 0s 75us/step - loss: 0.4570 - accuracy: 0.7801\n",
            "Epoch 75/100\n",
            "614/614 [==============================] - 0s 80us/step - loss: 0.4572 - accuracy: 0.7818\n",
            "Epoch 76/100\n",
            "614/614 [==============================] - 0s 73us/step - loss: 0.4567 - accuracy: 0.7801\n",
            "Epoch 77/100\n",
            "614/614 [==============================] - 0s 76us/step - loss: 0.4563 - accuracy: 0.7818\n",
            "Epoch 78/100\n",
            "614/614 [==============================] - 0s 80us/step - loss: 0.4562 - accuracy: 0.7801\n",
            "Epoch 79/100\n",
            "614/614 [==============================] - 0s 78us/step - loss: 0.4558 - accuracy: 0.7818\n",
            "Epoch 80/100\n",
            "614/614 [==============================] - 0s 80us/step - loss: 0.4558 - accuracy: 0.7834\n",
            "Epoch 81/100\n",
            "614/614 [==============================] - 0s 80us/step - loss: 0.4556 - accuracy: 0.7834\n",
            "Epoch 82/100\n",
            "614/614 [==============================] - 0s 80us/step - loss: 0.4550 - accuracy: 0.7818\n",
            "Epoch 83/100\n",
            "614/614 [==============================] - 0s 93us/step - loss: 0.4549 - accuracy: 0.7818\n",
            "Epoch 84/100\n",
            "614/614 [==============================] - 0s 107us/step - loss: 0.4554 - accuracy: 0.7850\n",
            "Epoch 85/100\n",
            "614/614 [==============================] - 0s 120us/step - loss: 0.4543 - accuracy: 0.7818\n",
            "Epoch 86/100\n",
            "614/614 [==============================] - 0s 115us/step - loss: 0.4544 - accuracy: 0.7801\n",
            "Epoch 87/100\n",
            "614/614 [==============================] - 0s 107us/step - loss: 0.4539 - accuracy: 0.7818\n",
            "Epoch 88/100\n",
            "614/614 [==============================] - 0s 119us/step - loss: 0.4536 - accuracy: 0.7801\n",
            "Epoch 89/100\n",
            "614/614 [==============================] - 0s 128us/step - loss: 0.4536 - accuracy: 0.7801\n",
            "Epoch 90/100\n",
            "614/614 [==============================] - 0s 110us/step - loss: 0.4532 - accuracy: 0.7785\n",
            "Epoch 91/100\n",
            "614/614 [==============================] - 0s 107us/step - loss: 0.4530 - accuracy: 0.7785\n",
            "Epoch 92/100\n",
            "614/614 [==============================] - 0s 109us/step - loss: 0.4528 - accuracy: 0.7785\n",
            "Epoch 93/100\n",
            "614/614 [==============================] - 0s 99us/step - loss: 0.4528 - accuracy: 0.7801\n",
            "Epoch 94/100\n",
            "614/614 [==============================] - 0s 94us/step - loss: 0.4522 - accuracy: 0.7801\n",
            "Epoch 95/100\n",
            "614/614 [==============================] - 0s 81us/step - loss: 0.4522 - accuracy: 0.7785\n",
            "Epoch 96/100\n",
            "614/614 [==============================] - 0s 83us/step - loss: 0.4519 - accuracy: 0.7834\n",
            "Epoch 97/100\n",
            "614/614 [==============================] - 0s 77us/step - loss: 0.4523 - accuracy: 0.7801\n",
            "Epoch 98/100\n",
            "614/614 [==============================] - 0s 81us/step - loss: 0.4517 - accuracy: 0.7818\n",
            "Epoch 99/100\n",
            "614/614 [==============================] - 0s 81us/step - loss: 0.4516 - accuracy: 0.7850\n",
            "Epoch 100/100\n",
            "614/614 [==============================] - 0s 83us/step - loss: 0.4517 - accuracy: 0.7850\n"
          ],
          "name": "stdout"
        },
        {
          "output_type": "execute_result",
          "data": {
            "text/plain": [
              "<keras.callbacks.callbacks.History at 0x15ae212be08>"
            ]
          },
          "metadata": {
            "tags": []
          },
          "execution_count": 10
        }
      ]
    },
    {
      "cell_type": "code",
      "metadata": {
        "id": "2ByGq08AntBs",
        "colab_type": "code",
        "colab": {}
      },
      "source": [
        "# Phase 3: Making the predictions and evaluating the model\n",
        "\n",
        "# Predicting the Test set results\n",
        "y_pred = diabetes_predictor.predict(X_test)\n",
        "# this gives us the probability of a patient having diabetes\n",
        "y_pred = (y_pred > 0.5)\n",
        "# this above syntax is equivalent to sayig if y_pred>0.5 give value 1 and if not give value 0"
      ],
      "execution_count": 0,
      "outputs": []
    },
    {
      "cell_type": "code",
      "metadata": {
        "id": "AlRvvtnbntB1",
        "colab_type": "code",
        "colab": {},
        "outputId": "79f99ea0-143f-4e4c-c474-1053970a1e9f"
      },
      "source": [
        "# Making the Confusion Matrix\n",
        "from sklearn.metrics import confusion_matrix\n",
        "cm = confusion_matrix(y_test, y_pred)\n",
        "\n",
        "cm"
      ],
      "execution_count": 0,
      "outputs": [
        {
          "output_type": "execute_result",
          "data": {
            "text/plain": [
              "array([[94, 13],\n",
              "       [17, 30]], dtype=int64)"
            ]
          },
          "metadata": {
            "tags": []
          },
          "execution_count": 12
        }
      ]
    }
  ]
}
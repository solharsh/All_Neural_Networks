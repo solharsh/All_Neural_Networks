{
  "nbformat": 4,
  "nbformat_minor": 0,
  "metadata": {
    "colab": {
      "name": "Gluon_MXNet.ipynb",
      "provenance": [],
      "mount_file_id": "1KhD0onjvIQ6kfXxmIv-tDiTcyoUulqRQ",
      "authorship_tag": "ABX9TyOzQxvzv2LIWBu/Gt6+b/69",
      "include_colab_link": true
    },
    "kernelspec": {
      "name": "python3",
      "display_name": "Python 3"
    }
  },
  "cells": [
    {
      "cell_type": "markdown",
      "metadata": {
        "id": "view-in-github",
        "colab_type": "text"
      },
      "source": [
        "<a href=\"https://colab.research.google.com/github/solharsh/All_Neural_Networks/blob/master/Gluon_MXNet.ipynb\" target=\"_parent\"><img src=\"https://colab.research.google.com/assets/colab-badge.svg\" alt=\"Open In Colab\"/></a>"
      ]
    },
    {
      "cell_type": "markdown",
      "metadata": {
        "id": "jUgYrZLJ72eA",
        "colab_type": "text"
      },
      "source": [
        "# MXNet/Gluon"
      ]
    },
    {
      "cell_type": "markdown",
      "metadata": {
        "id": "RR8DW7OE8LKh",
        "colab_type": "text"
      },
      "source": [
        "- Reference: https://beta.mxnet.io/guide/2-nn.html\n",
        "- Youtube Crash Course on MXNet: https://www.youtube.com/watch?v=3FR4jO0rk0o"
      ]
    },
    {
      "cell_type": "markdown",
      "metadata": {
        "id": "MoL6KSPn76O-",
        "colab_type": "text"
      },
      "source": [
        "Neural Networks with Gluon\n",
        "Building, training and validating a Neural Network in Gluon."
      ]
    },
    {
      "cell_type": "code",
      "metadata": {
        "id": "fHu-Smlntvd2",
        "colab_type": "code",
        "colab": {
          "base_uri": "https://localhost:8080/",
          "height": 250
        },
        "outputId": "17a7b160-8b0b-45ef-e422-7bf2affa417b"
      },
      "source": [
        "!pip install mxnet-cu100 #this is how I was able to install mxnet in google colab\n",
        "#For other systems, please refer following: \n",
        "#https://beta.mxnet.io/install/index.html"
      ],
      "execution_count": 17,
      "outputs": [
        {
          "output_type": "stream",
          "text": [
            "Collecting mxnet-cu100\n",
            "\u001b[?25l  Downloading https://files.pythonhosted.org/packages/3d/84/d098e0607ee6207448b6af65315f5d45946b49e4f48160eade6cdd64ce4e/mxnet_cu100-1.5.1.post0-py2.py3-none-manylinux1_x86_64.whl (540.1MB)\n",
            "\u001b[K     |████████████████████████████████| 540.1MB 27kB/s \n",
            "\u001b[?25hRequirement already satisfied: numpy<2.0.0,>1.16.0 in /usr/local/lib/python3.6/dist-packages (from mxnet-cu100) (1.18.3)\n",
            "Requirement already satisfied: graphviz<0.9.0,>=0.8.1 in /root/.local/lib/python3.6/site-packages (from mxnet-cu100) (0.8.4)\n",
            "Requirement already satisfied: requests<3,>=2.20.0 in /usr/local/lib/python3.6/dist-packages (from mxnet-cu100) (2.23.0)\n",
            "Requirement already satisfied: certifi>=2017.4.17 in /usr/local/lib/python3.6/dist-packages (from requests<3,>=2.20.0->mxnet-cu100) (2020.4.5.1)\n",
            "Requirement already satisfied: idna<3,>=2.5 in /usr/local/lib/python3.6/dist-packages (from requests<3,>=2.20.0->mxnet-cu100) (2.9)\n",
            "Requirement already satisfied: urllib3!=1.25.0,!=1.25.1,<1.26,>=1.21.1 in /usr/local/lib/python3.6/dist-packages (from requests<3,>=2.20.0->mxnet-cu100) (1.24.3)\n",
            "Requirement already satisfied: chardet<4,>=3.0.2 in /usr/local/lib/python3.6/dist-packages (from requests<3,>=2.20.0->mxnet-cu100) (3.0.4)\n",
            "Installing collected packages: mxnet-cu100\n",
            "Successfully installed mxnet-cu100-1.5.1.post0\n"
          ],
          "name": "stdout"
        }
      ]
    },
    {
      "cell_type": "code",
      "metadata": {
        "id": "cIUxlor6vSsa",
        "colab_type": "code",
        "colab": {}
      },
      "source": [
        "import mxnet as mx\n",
        "from mxnet import nd"
      ],
      "execution_count": 0,
      "outputs": []
    },
    {
      "cell_type": "code",
      "metadata": {
        "id": "Aku5oIxvvgX8",
        "colab_type": "code",
        "colab": {
          "base_uri": "https://localhost:8080/",
          "height": 141
        },
        "outputId": "4561f9af-9ab1-4846-a13d-6c8b6f840fe0"
      },
      "source": [
        "from mxnet.gluon import nn\n",
        " \n",
        "net = nn.Sequential()\n",
        " \n",
        "net.add(nn.Dense(64,                    # Dense layer-1 (fully connected layer) with 64 units\n",
        "                 in_units=3,            # Input size of 3 is expected\n",
        "                 activation='tanh'),    # Tanh activation is applied\n",
        "        nn.Dropout(.4),                 # Apply random 40% drop-out to layer_1\n",
        "        \n",
        "        nn.Dense(128,                   # Dense layer-2 with 128 units  \n",
        "                 activation='tanh'      # Tanh activation is applied\n",
        "                ),\n",
        "        nn.Dropout(.3),                 # Apply random 30% drop-out to layer_2\n",
        "        \n",
        "        nn.Dense(1))                    # Output layer with single unit\n",
        " \n",
        "print(net)"
      ],
      "execution_count": 38,
      "outputs": [
        {
          "output_type": "stream",
          "text": [
            "Sequential(\n",
            "  (0): Dense(3 -> 64, Activation(tanh))\n",
            "  (1): Dropout(p = 0.4, axes=())\n",
            "  (2): Dense(None -> 128, Activation(tanh))\n",
            "  (3): Dropout(p = 0.3, axes=())\n",
            "  (4): Dense(None -> 1, linear)\n",
            ")\n"
          ],
          "name": "stdout"
        }
      ]
    },
    {
      "cell_type": "markdown",
      "metadata": {
        "id": "_LOySJ7t47kD",
        "colab_type": "text"
      },
      "source": [
        "### 2. Loss Functions:\n",
        "\n",
        "We will go over some popular loss functions here. We can select loss functions according to our problem. \n",
        "\n",
        "__Binary Cross-entropy Loss:__ A common loss function for binary classification. It is given by: \n",
        "$$\n",
        "\\mathrm{BinaryCrossEntropyLoss} = -\\sum_{examples}{(y\\log(p) + (1 - y)\\log(1 - p))}\n",
        "$$\n",
        "where p is the prediction (between 0 and 1, ie. 0.831) and y is the true class (either 1 or 0). \n",
        "\n",
        "In gluon, we can use binary cross entropy with `SigmoidBinaryCrossEntropyLoss`. It also applies sigmoid function on the predictions. Therefore, p is always between 0 and 1.\n",
        "```python\n",
        "from mxnet.gluon.loss import SigmoidBinaryCrossEntropyLoss\n",
        "loss = SigmoidBinaryCrossEntropyLoss()\n",
        "```\n",
        "__Categorical Cross-entropy Loss:__ It is used for multi-class classification. We apply the softmax function on prediction probabilities and then extend the equation of binary cross-entropy. After the softmax function, summation of the predictions are equal to 1. Equation is below. y becomes 1 for true class and 0 for other classes.\n",
        "$$\n",
        "\\mathrm{CategoricalCrossEntropyLoss} = -\\sum_{examples}\\sum_{classes}{y_j\\log(p_j)}\n",
        "$$\n",
        "In gluon, `SoftmaxCrossEntropyLoss` implements the categorical cross-entropy loss with softmax function\n",
        "```python\n",
        "from mxnet.gluon.loss import SoftmaxCrossEntropyLoss\n",
        "loss = SoftmaxCrossEntropyLoss()\n",
        "```\n",
        "__L2 Loss:__ This is a loss function for regression problems. It measures the squared difference between target values (y) and predictions (p). Here, square makes sure the offsets with different signs don't cancel out each other.\n",
        "$$\n",
        "\\mathrm{L2 loss} = \\frac{1}{2} \\sum_{examples}(y - p)^2\n",
        "$$\n",
        "In gluon, we can use it with `L2Loss`:\n",
        "```python\n",
        "from mxnet.gluon.loss import L2Loss\n",
        "loss = L2Loss()\n",
        "```\n",
        "__L1 Loss:__ This is similar to L2 loss. It measures the abolsute difference between target values (y) and predictions (p).\n",
        "$$\n",
        "\\mathrm{L1 loss} = \\frac{1}{2} \\sum_{examples}|y - p|\n",
        "$$\n",
        "In gluon, we can use it with `L1Loss`:\n",
        "```python\n",
        "from mxnet.gluon.loss import L1Loss\n",
        "loss = L1Loss()\n",
        "```"
      ]
    },
    {
      "cell_type": "code",
      "metadata": {
        "id": "6BgpoIx3wICB",
        "colab_type": "code",
        "colab": {}
      },
      "source": [
        "#We can initialize the weights of the network with 'initialize()' function. I am using following:\n",
        "from mxnet import init\n",
        "net.initialize(init=init.Xavier())"
      ],
      "execution_count": 0,
      "outputs": []
    },
    {
      "cell_type": "code",
      "metadata": {
        "id": "KPnXqzTc0HNP",
        "colab_type": "code",
        "colab": {}
      },
      "source": [
        "#we can also do following: \n",
        "#net.initialize() #initialize weights with the default initialization method, which draws random values uniformly from  \n",
        "#[−0.7,0.7]"
      ],
      "execution_count": 0,
      "outputs": []
    },
    {
      "cell_type": "code",
      "metadata": {
        "id": "VmJ4bHSqwfEJ",
        "colab_type": "code",
        "colab": {
          "base_uri": "https://localhost:8080/",
          "height": 106
        },
        "outputId": "57b7ab69-a78a-4ed6-cb44-2d92c533a33e"
      },
      "source": [
        "#Let's look at our layers and dropouts on them. We can easily access them wth net[layer_index]\n",
        "print(net[0])\n",
        "print(net[1])\n",
        "print(net[2])\n",
        "print(net[3])\n",
        "print(net[4])"
      ],
      "execution_count": 40,
      "outputs": [
        {
          "output_type": "stream",
          "text": [
            "Dense(3 -> 64, Activation(tanh))\n",
            "Dropout(p = 0.4, axes=())\n",
            "Dense(None -> 128, Activation(tanh))\n",
            "Dropout(p = 0.3, axes=())\n",
            "Dense(None -> 1, linear)\n"
          ],
          "name": "stdout"
        }
      ]
    },
    {
      "cell_type": "markdown",
      "metadata": {
        "id": "AJYTYo0_5oHv",
        "colab_type": "text"
      },
      "source": [
        "### 3. Training:\n",
        "\n",
        "`mxnet.gluon.Trainer()` module provides necessary training algorithms for neural networks. We can use the following for training a network using Stochastic Gradient Descent method and learning rate of 0.001.\n",
        "\n",
        "```python\n",
        "from mxnet import gluon\n",
        "\n",
        "trainer = gluon.Trainer(net.collect_params(),\n",
        "                        'sgd', \n",
        "                        {'learning_rate': 0.001}\n",
        "                       )\n",
        "```"
      ]
    },
    {
      "cell_type": "markdown",
      "metadata": {
        "id": "jyRAzE_y5xf8",
        "colab_type": "text"
      },
      "source": [
        "### 4. Example - Binary Classification\n",
        "\n",
        "Let's train a neural network on a random dataset. We have two classes and will learn to classify them."
      ]
    },
    {
      "cell_type": "code",
      "metadata": {
        "id": "dulx9Zp-5nt0",
        "colab_type": "code",
        "colab": {}
      },
      "source": [
        "from sklearn.datasets import make_circles\n",
        "\n",
        "X, y = make_circles(n_samples=750, shuffle=True, random_state=100, noise=0.05, factor=0.3)"
      ],
      "execution_count": 0,
      "outputs": []
    },
    {
      "cell_type": "code",
      "metadata": {
        "id": "hSz0siZ1woaz",
        "colab_type": "code",
        "colab": {
          "base_uri": "https://localhost:8080/",
          "height": 301
        },
        "outputId": "a0632d58-8386-4340-d197-28a2d297dbab"
      },
      "source": [
        "#Let's plot the dataset\n",
        "%matplotlib inline\n",
        "import matplotlib.pyplot as plt\n",
        "import seaborn as sns\n",
        "\n",
        "def plot_dataset(X, y, title):\n",
        "    \n",
        "    # Activate Seaborn visualization\n",
        "    sns.set()\n",
        "    \n",
        "    # Plot both classes: Class1->Blue, Class2->Red\n",
        "    plt.scatter(X[y==1, 0], X[y==1, 1], c='blue', label=\"class 1\")\n",
        "    plt.scatter(X[y==0, 0], X[y==0, 1], c='red', label=\"class 2\")\n",
        "    plt.legend(loc='upper right')\n",
        "    plt.xlabel('x1')\n",
        "    plt.ylabel('x2')\n",
        "    plt.xlim(-2, 2)\n",
        "    plt.ylim(-2, 2)\n",
        "    plt.title(title)\n",
        "    plt.show()\n",
        "    \n",
        "plot_dataset(X, y, title=\"Circle Dataset\")"
      ],
      "execution_count": 48,
      "outputs": [
        {
          "output_type": "display_data",
          "data": {
            "image/png": "[encoded data removed]",
            "text/plain": [
              "<Figure size 432x288 with 1 Axes>"
            ]
          },
          "metadata": {
            "tags": []
          }
        }
      ]
    },
    {
      "cell_type": "code",
      "metadata": {
        "id": "C0CiqvwQ6UBB",
        "colab_type": "code",
        "colab": {}
      },
      "source": [
        "#Importing the necessary libraries\n",
        "import time\n",
        "import mxnet as mx\n",
        "from mxnet import gluon, autograd\n",
        "import mxnet.ndarray as nd\n",
        "from mxnet.gluon.loss import SigmoidBinaryCrossEntropyLoss"
      ],
      "execution_count": 0,
      "outputs": []
    },
    {
      "cell_type": "markdown",
      "metadata": {
        "id": "XsWtf24w6PYR",
        "colab_type": "text"
      },
      "source": [
        "Creating the network below. We will have two hidden layers. Since the data seems easily seperable, we can have a small network (2 hidden layers) with 10 units at each layer."
      ]
    },
    {
      "cell_type": "code",
      "metadata": {
        "id": "MvI0Az5ew1C0",
        "colab_type": "code",
        "colab": {}
      },
      "source": [
        "from mxnet import init\n",
        "from mxnet.gluon import nn\n",
        "\n",
        "net = nn.Sequential()\n",
        "net.add(nn.Dense(10, in_units=2, activation='relu'),\n",
        "        nn.Dense(10, activation='relu'),\n",
        "        nn.Dense(1, activation='sigmoid'))\n",
        "net.initialize(init=init.Xavier())"
      ],
      "execution_count": 0,
      "outputs": []
    },
    {
      "cell_type": "code",
      "metadata": {
        "id": "JalcAjCXw8FA",
        "colab_type": "code",
        "colab": {}
      },
      "source": [
        "#Let's define the training parameters\n",
        "batch_size = 4           # How many samples to use for each weight update \n",
        "epochs = 50              # Total number of passes over the dataset\n",
        "learning_rate = 0.01     # Learning rate\n",
        "context = mx.cpu()       # Using CPU resource, mx.gpu() uses available gpu resources if any\n",
        "\n",
        "# Define the loss. As we used sigmoid in the last layer, use from_sigmoid=True\n",
        "binary_cross_loss = SigmoidBinaryCrossEntropyLoss(from_sigmoid=True)\n",
        "\n",
        "# Define the trainer, SGD with learning rate\n",
        "trainer = gluon.Trainer(net.collect_params(),\n",
        "                        'sgd',\n",
        "                        {'learning_rate': learning_rate}\n",
        "                       )"
      ],
      "execution_count": 0,
      "outputs": []
    },
    {
      "cell_type": "code",
      "metadata": {
        "id": "pEdBhrLJw9Ch",
        "colab_type": "code",
        "colab": {}
      },
      "source": [
        "# Splitting the dataset into two parts: 80%-20% split\n",
        "X_train, X_val = X[0:int(len(X)*0.8), :], X[int(len(X)*0.8):, :]\n",
        "y_train, y_val = y[:int(len(X)*0.8)], y[int(len(X)*0.8):]\n",
        "\n",
        "# Convert to ND arrays for gluon\n",
        "X_train = nd.array(X_train)\n",
        "X_val = nd.array(X_val)\n",
        "y_train = nd.array(y_train)\n",
        "y_val = nd.array(y_val)\n",
        "\n",
        "# Using Gluon Data loaders to load the data in batches\n",
        "train_dataset = gluon.data.ArrayDataset(X_train, y_train)\n",
        "train_loader = gluon.data.DataLoader(train_dataset, batch_size=batch_size)"
      ],
      "execution_count": 0,
      "outputs": []
    },
    {
      "cell_type": "code",
      "metadata": {
        "id": "8eQLIElzw_aC",
        "colab_type": "code",
        "colab": {
          "base_uri": "https://localhost:8080/",
          "height": 906
        },
        "outputId": "012e584f-3871-4148-fff5-1f0f716969c2"
      },
      "source": [
        "#Let's start the training process. We will have training and validation sets and print our losses at each step.\n",
        "import time\n",
        "\n",
        "train_losses = []\n",
        "val_losses = []\n",
        "for epoch in range(epochs):\n",
        "    start = time.time()\n",
        "    training_loss = 0\n",
        "    # Training loop, train the network\n",
        "    for idx, (data, target) in enumerate(train_loader):\n",
        "\n",
        "        data = data.as_in_context(context)\n",
        "        target = target.as_in_context(context)\n",
        "        \n",
        "        with autograd.record():\n",
        "            output = net(data)\n",
        "            L = binary_cross_loss(output, target)\n",
        "            training_loss += nd.sum(L).asscalar()\n",
        "            L.backward()\n",
        "        trainer.step(data.shape[0])\n",
        "    \n",
        "    # Get validation predictions\n",
        "    val_predictions = net(X_val.as_in_context(context))\n",
        "    # Calculate validation loss\n",
        "    val_loss = nd.sum(binary_cross_loss(val_predictions, y_val)).asscalar()\n",
        "    \n",
        "    # Let's take the average losses\n",
        "    training_loss = training_loss / len(y_train)\n",
        "    val_loss = val_loss / len(y_val)\n",
        "    \n",
        "    train_losses.append(training_loss)\n",
        "    val_losses.append(val_loss)\n",
        "    \n",
        "    end = time.time()\n",
        "    print(\"Epoch %s. Train_loss %f Validation_loss %f Seconds %f\" % \\\n",
        "          (epoch, training_loss, val_loss, end-start))"
      ],
      "execution_count": 53,
      "outputs": [
        {
          "output_type": "stream",
          "text": [
            "Epoch 0. Train_loss 0.691127 Validation_loss 0.684156 Seconds 0.373871\n",
            "Epoch 1. Train_loss 0.682775 Validation_loss 0.674499 Seconds 0.373239\n",
            "Epoch 2. Train_loss 0.671357 Validation_loss 0.658384 Seconds 0.376725\n",
            "Epoch 3. Train_loss 0.646834 Validation_loss 0.633070 Seconds 0.381902\n",
            "Epoch 4. Train_loss 0.627151 Validation_loss 0.615103 Seconds 0.385168\n",
            "Epoch 5. Train_loss 0.608756 Validation_loss 0.594578 Seconds 0.386652\n",
            "Epoch 6. Train_loss 0.587047 Validation_loss 0.570267 Seconds 0.373059\n",
            "Epoch 7. Train_loss 0.561343 Validation_loss 0.541555 Seconds 0.375184\n",
            "Epoch 8. Train_loss 0.531153 Validation_loss 0.508014 Seconds 0.381975\n",
            "Epoch 9. Train_loss 0.496159 Validation_loss 0.469403 Seconds 0.378404\n",
            "Epoch 10. Train_loss 0.456319 Validation_loss 0.425984 Seconds 0.379744\n",
            "Epoch 11. Train_loss 0.412004 Validation_loss 0.378481 Seconds 0.376893\n",
            "Epoch 12. Train_loss 0.364185 Validation_loss 0.328750 Seconds 0.375534\n",
            "Epoch 13. Train_loss 0.315144 Validation_loss 0.280589 Seconds 0.374685\n",
            "Epoch 14. Train_loss 0.268163 Validation_loss 0.235905 Seconds 0.391580\n",
            "Epoch 15. Train_loss 0.225495 Validation_loss 0.196158 Seconds 0.384292\n",
            "Epoch 16. Train_loss 0.188056 Validation_loss 0.161710 Seconds 0.386236\n",
            "Epoch 17. Train_loss 0.156141 Validation_loss 0.132625 Seconds 0.370324\n",
            "Epoch 18. Train_loss 0.128997 Validation_loss 0.108631 Seconds 0.371736\n",
            "Epoch 19. Train_loss 0.106142 Validation_loss 0.089014 Seconds 0.379715\n",
            "Epoch 20. Train_loss 0.087974 Validation_loss 0.073721 Seconds 0.381296\n",
            "Epoch 21. Train_loss 0.073681 Validation_loss 0.061778 Seconds 0.385085\n",
            "Epoch 22. Train_loss 0.062438 Validation_loss 0.052349 Seconds 0.371516\n",
            "Epoch 23. Train_loss 0.053524 Validation_loss 0.044813 Seconds 0.376312\n",
            "Epoch 24. Train_loss 0.046345 Validation_loss 0.038789 Seconds 0.381219\n",
            "Epoch 25. Train_loss 0.040553 Validation_loss 0.033922 Seconds 0.374210\n",
            "Epoch 26. Train_loss 0.035824 Validation_loss 0.029946 Seconds 0.367234\n",
            "Epoch 27. Train_loss 0.031935 Validation_loss 0.026665 Seconds 0.377103\n",
            "Epoch 28. Train_loss 0.028697 Validation_loss 0.023938 Seconds 0.378087\n",
            "Epoch 29. Train_loss 0.025975 Validation_loss 0.021642 Seconds 0.386416\n",
            "Epoch 30. Train_loss 0.023656 Validation_loss 0.019683 Seconds 0.379117\n",
            "Epoch 31. Train_loss 0.021662 Validation_loss 0.017995 Seconds 0.370147\n",
            "Epoch 32. Train_loss 0.019940 Validation_loss 0.016533 Seconds 0.376124\n",
            "Epoch 33. Train_loss 0.018441 Validation_loss 0.015259 Seconds 0.372897\n",
            "Epoch 34. Train_loss 0.017125 Validation_loss 0.014141 Seconds 0.370716\n",
            "Epoch 35. Train_loss 0.015963 Validation_loss 0.013153 Seconds 0.384432\n",
            "Epoch 36. Train_loss 0.014931 Validation_loss 0.012275 Seconds 0.377662\n",
            "Epoch 37. Train_loss 0.014009 Validation_loss 0.011492 Seconds 0.377699\n",
            "Epoch 38. Train_loss 0.013182 Validation_loss 0.010790 Seconds 0.381939\n",
            "Epoch 39. Train_loss 0.012435 Validation_loss 0.010157 Seconds 0.380500\n",
            "Epoch 40. Train_loss 0.011759 Validation_loss 0.009585 Seconds 0.378525\n",
            "Epoch 41. Train_loss 0.011145 Validation_loss 0.009065 Seconds 0.377192\n",
            "Epoch 42. Train_loss 0.010584 Validation_loss 0.008592 Seconds 0.371357\n",
            "Epoch 43. Train_loss 0.010071 Validation_loss 0.008158 Seconds 0.386603\n",
            "Epoch 44. Train_loss 0.009599 Validation_loss 0.007760 Seconds 0.380679\n",
            "Epoch 45. Train_loss 0.009164 Validation_loss 0.007394 Seconds 0.375588\n",
            "Epoch 46. Train_loss 0.008762 Validation_loss 0.007057 Seconds 0.372754\n",
            "Epoch 47. Train_loss 0.008390 Validation_loss 0.006744 Seconds 0.377342\n",
            "Epoch 48. Train_loss 0.008045 Validation_loss 0.006455 Seconds 0.370869\n",
            "Epoch 49. Train_loss 0.007724 Validation_loss 0.006186 Seconds 0.370174\n"
          ],
          "name": "stdout"
        }
      ]
    },
    {
      "cell_type": "code",
      "metadata": {
        "id": "xGtO4p-bxXY6",
        "colab_type": "code",
        "colab": {
          "base_uri": "https://localhost:8080/",
          "height": 301
        },
        "outputId": "4a4a5cc2-486d-42e6-b0f8-19328205a040"
      },
      "source": [
        "#Let's see the training and validation loss plots below. Losses go down as the training process continues as expected.\n",
        "%matplotlib inline\n",
        "import matplotlib.pyplot as plt\n",
        "import seaborn as sns\n",
        "\n",
        "plt.plot(train_losses, label=\"Training Loss\")\n",
        "plt.plot(val_losses, label=\"Validation Loss\")\n",
        "plt.title(\"Loss values\")\n",
        "plt.xlabel(\"Epoch\")\n",
        "plt.ylabel(\"Loss\")\n",
        "plt.legend()\n",
        "plt.show()"
      ],
      "execution_count": 54,
      "outputs": [
        {
          "output_type": "display_data",
          "data": {
            "image/png": "[encoded data removed]",
            "text/plain": [
              "<Figure size 432x288 with 1 Axes>"
            ]
          },
          "metadata": {
            "tags": [],
            "needs_background": "light"
          }
        }
      ]
    },
    {
      "cell_type": "code",
      "metadata": {
        "id": "ELadOupGxvSX",
        "colab_type": "code",
        "colab": {}
      },
      "source": [
        ""
      ],
      "execution_count": 0,
      "outputs": []
    }
  ]
}
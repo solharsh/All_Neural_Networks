{
  "nbformat": 4,
  "nbformat_minor": 0,
  "metadata": {
    "colab": {
      "name": "VGGNet_Fine_Tuning_Gluon.ipynb",
      "provenance": [],
      "authorship_tag": "ABX9TyMs0cgpbTt6Rm+sNW8aLzVc",
      "include_colab_link": true
    },
    "kernelspec": {
      "name": "python3",
      "display_name": "Python 3"
    }
  },
  "cells": [
    {
      "cell_type": "markdown",
      "metadata": {
        "id": "view-in-github",
        "colab_type": "text"
      },
      "source": [
        "<a href=\"https://colab.research.google.com/github/solharsh/All_Neural_Networks/blob/master/VGGNet_Fine_Tuning_Gluon.ipynb\" target=\"_parent\"><img src=\"https://colab.research.google.com/assets/colab-badge.svg\" alt=\"Open In Colab\"/></a>"
      ]
    },
    {
      "cell_type": "markdown",
      "metadata": {
        "id": "15M5aJIGgjp3",
        "colab_type": "text"
      },
      "source": [
        "Let's import the pretrained VGG-16 network from Gluon model zoo. There are a few steps to get this working.\n",
        "\n",
        "We get the petrained model (pre_trained_net) with vision.vgg16(pretrained=True, ctx=ctx)\n",
        "Get a not-trained VGG16 net (net).\n",
        "Move features from pre-trained to not-trained network.\n",
        "This new network (net) will have the weights of the VGG16 network trained previously on ImageNet dataset (1000 classes). The output size is also converted to our problem class size (5 classes)."
      ]
    },
    {
      "cell_type": "code",
      "metadata": {
        "id": "ngfn4HmXgsqX",
        "colab_type": "code",
        "colab": {
          "base_uri": "https://localhost:8080/",
          "height": 283
        },
        "outputId": "32ba49f2-fe71-4fcd-da7e-fc6f7eaa85be"
      },
      "source": [
        "pip install mxnet"
      ],
      "execution_count": 2,
      "outputs": [
        {
          "output_type": "stream",
          "text": [
            "Collecting mxnet\n",
            "\u001b[?25l  Downloading https://files.pythonhosted.org/packages/81/f5/d79b5b40735086ff1100c680703e0f3efc830fa455e268e9e96f3c857e93/mxnet-1.6.0-py2.py3-none-any.whl (68.7MB)\n",
            "\u001b[K     |████████████████████████████████| 68.7MB 61kB/s \n",
            "\u001b[?25hCollecting graphviz<0.9.0,>=0.8.1\n",
            "  Downloading https://files.pythonhosted.org/packages/53/39/4ab213673844e0c004bed8a0781a0721a3f6bb23eb8854ee75c236428892/graphviz-0.8.4-py2.py3-none-any.whl\n",
            "Requirement already satisfied: numpy<2.0.0,>1.16.0 in /usr/local/lib/python3.6/dist-packages (from mxnet) (1.18.4)\n",
            "Requirement already satisfied: requests<3,>=2.20.0 in /usr/local/lib/python3.6/dist-packages (from mxnet) (2.23.0)\n",
            "Requirement already satisfied: certifi>=2017.4.17 in /usr/local/lib/python3.6/dist-packages (from requests<3,>=2.20.0->mxnet) (2020.4.5.1)\n",
            "Requirement already satisfied: urllib3!=1.25.0,!=1.25.1,<1.26,>=1.21.1 in /usr/local/lib/python3.6/dist-packages (from requests<3,>=2.20.0->mxnet) (1.24.3)\n",
            "Requirement already satisfied: idna<3,>=2.5 in /usr/local/lib/python3.6/dist-packages (from requests<3,>=2.20.0->mxnet) (2.9)\n",
            "Requirement already satisfied: chardet<4,>=3.0.2 in /usr/local/lib/python3.6/dist-packages (from requests<3,>=2.20.0->mxnet) (3.0.4)\n",
            "Installing collected packages: graphviz, mxnet\n",
            "  Found existing installation: graphviz 0.10.1\n",
            "    Uninstalling graphviz-0.10.1:\n",
            "      Successfully uninstalled graphviz-0.10.1\n",
            "Successfully installed graphviz-0.8.4 mxnet-1.6.0\n"
          ],
          "name": "stdout"
        }
      ]
    },
    {
      "cell_type": "code",
      "metadata": {
        "id": "WBDRx4SpgkVw",
        "colab_type": "code",
        "colab": {
          "base_uri": "https://localhost:8080/",
          "height": 33
        },
        "outputId": "ff36874e-34f6-4655-9800-9ca7fc58454a"
      },
      "source": [
        "from mxnet.gluon.model_zoo import vision\n",
        "import mxnet as mx\n",
        " \n",
        "# Set this to GPU or CPU\n",
        "#ctx = mx.gpu()\n",
        "ctx = mx.cpu()\n",
        " \n",
        "# Number of classes\n",
        "num_outputs = 5\n",
        " \n",
        "# Get the pre-trained network\n",
        "pre_trained_net = vision.vgg16(pretrained=True, ctx=ctx)\n",
        " \n",
        "# Get the non-trained network\n",
        "net = vision.vgg16(classes=num_outputs, ctx=ctx)\n",
        " \n",
        "# Initialize weights\n",
        "net.collect_params().initialize(mx.init.Xavier(magnitude=2.24), ctx=ctx)\n",
        " \n",
        "# Copy weights from the trained network\n",
        "net.features = pre_trained_net.features"
      ],
      "execution_count": 3,
      "outputs": [
        {
          "output_type": "stream",
          "text": [
            "Downloading /root/.mxnet/models/vgg16-e660d456.zipc8b55bc3-be74-47bc-b548-d7f161ec5ad4 from https://apache-mxnet.s3-accelerate.dualstack.amazonaws.com/gluon/models/vgg16-e660d456.zip...\n"
          ],
          "name": "stdout"
        }
      ]
    }
  ]
}